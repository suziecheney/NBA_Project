{
 "cells": [
  {
   "cell_type": "code",
   "execution_count": 2,
   "id": "1df4eea6",
   "metadata": {},
   "outputs": [
    {
     "name": "stdout",
     "output_type": "stream",
     "text": [
      "        game_id  year_id  fran_id      opp_fran game_location  is_playoffs  \\\n",
      "0  194611010TRH     1947   Knicks       Huskies             A            0   \n",
      "1  194611020CHS     1947   Knicks         Stags             A            0   \n",
      "2  194611020PRO     1947  Celtics  Steamrollers             A            0   \n",
      "3  194611050BOS     1947  Celtics         Stags             H            0   \n",
      "4  194611070STB     1947   Knicks       Bombers             A            0   \n",
      "\n",
      "   pts  opp_pts game_result  forecast  point_diff  \n",
      "0   68       66           W  0.359935           2  \n",
      "1   47       63           L  0.368899         -16  \n",
      "2   53       59           L  0.359935          -6  \n",
      "3   55       57           L  0.620204          -2  \n",
      "4   68       63           W  0.339290           5  \n"
     ]
    }
   ],
   "source": [
    "import pandas as pd\n",
    "import numpy as np\n",
    "from scipy.stats import pearsonr, chi2_contingency\n",
    "import matplotlib.pyplot as plt\n",
    "import seaborn as sns\n",
    "\n",
    "#to make the output look nicer\n",
    "np.set_printoptions(suppress=True, precision = 2)\n",
    "\n",
    "nba = pd.read_csv('nba_games.csv')\n",
    "print(nba.head())\n",
    "\n",
    "# Subset Data to 2010 Season, 2014 Season\n",
    "nba_2010 = nba[nba.year_id == 2010]\n",
    "nba_2014 = nba[nba.year_id == 2014]"
   ]
  },
  {
   "cell_type": "code",
   "execution_count": 12,
   "id": "7cf045e9",
   "metadata": {},
   "outputs": [
    {
     "name": "stdout",
     "output_type": "stream",
     "text": [
      "9.731707317073173\n"
     ]
    }
   ],
   "source": [
    "knicks_pts = nba_2010[nba_2010.fran_id == \"Knicks\"][\"pts\"]\n",
    "nets_pts = nba_2010[nba_2010.fran_id == \"Nets\"][\"pts\"]\n",
    "\n",
    "mean_knicks_pts = np.mean(knicks_pts)\n",
    "mean_nets_pts = np.mean(nets_pts)\n",
    "\n",
    "#calc diff in mean values\n",
    "\n",
    "diff_means_2010 = mean_knicks_pts - mean_nets_pts\n",
    "print(diff_means_2010)"
   ]
  },
  {
   "cell_type": "code",
   "execution_count": 16,
   "id": "8e3d922e",
   "metadata": {},
   "outputs": [
    {
     "data": {
      "image/png": "[encoded data removed]",
      "text/plain": [
       "<Figure size 432x288 with 1 Axes>"
      ]
     },
     "metadata": {
      "needs_background": "light"
     },
     "output_type": "display_data"
    }
   ],
   "source": [
    "#plot overlapping histograms\n",
    "\n",
    "plt.hist(knicks_pts, alpha=0.5, label='Knicks Points')\n",
    "plt.hist(nets_pts, alpha=0.5, label='Nets Points')\n",
    "plt.legend(loc='upper right')\n",
    "plt.show()"
   ]
  },
  {
   "cell_type": "code",
   "execution_count": 17,
   "id": "3e2d060d",
   "metadata": {},
   "outputs": [
    {
     "name": "stdout",
     "output_type": "stream",
     "text": [
      "0.44706798131809933\n"
     ]
    },
    {
     "data": {
      "image/png": "[encoded data removed]",
      "text/plain": [
       "<Figure size 432x288 with 1 Axes>"
      ]
     },
     "metadata": {
      "needs_background": "light"
     },
     "output_type": "display_data"
    }
   ],
   "source": [
    "#Repeat process for 2014\n",
    "\n",
    "knicks_pts_2014 = nba_2014[nba_2014.fran_id == \"Knicks\"][\"pts\"]\n",
    "nets_pts_2014 = nba_2014[nba_2014.fran_id == \"Nets\"][\"pts\"]\n",
    "\n",
    "mean_knicks_pts_2014 = np.mean(knicks_pts_2014)\n",
    "mean_nets_pts_2014 = np.mean(nets_pts_2014)\n",
    "\n",
    "#calc diff in mean values\n",
    "\n",
    "diff_means_2014 = mean_knicks_pts_2014 - mean_nets_pts_2014\n",
    "print(diff_means_2014)\n",
    "\n",
    "plt.hist(knicks_pts_2014, alpha=0.5, label='Knicks Points')\n",
    "plt.hist(nets_pts_2014, alpha=0.5, label='Nets Points')\n",
    "plt.legend(loc='upper right')\n",
    "plt.show()"
   ]
  },
  {
   "cell_type": "code",
   "execution_count": 18,
   "id": "cfa8cec0",
   "metadata": {},
   "outputs": [
    {
     "data": {
      "image/png": "[encoded data removed]",
      "text/plain": [
       "<Figure size 432x288 with 1 Axes>"
      ]
     },
     "metadata": {
      "needs_background": "light"
     },
     "output_type": "display_data"
    }
   ],
   "source": [
    "sns.boxplot(data = nba_2010, x = 'fran_id', y = 'pts')\n",
    "plt.show()"
   ]
  },
  {
   "cell_type": "code",
   "execution_count": 19,
   "id": "9939f0a4",
   "metadata": {},
   "outputs": [
    {
     "name": "stdout",
     "output_type": "stream",
     "text": [
      "game_location    A    H\n",
      "game_result            \n",
      "L              133  105\n",
      "W               92  120\n"
     ]
    }
   ],
   "source": [
    "# Create contingency table of frequencies to compare game_result to game_location\n",
    "location_result_freq = pd.crosstab(nba_2010.game_result, nba_2010.game_location)\n",
    "print(location_result_freq)"
   ]
  },
  {
   "cell_type": "code",
   "execution_count": 20,
   "id": "b7d0792b",
   "metadata": {},
   "outputs": [
    {
     "name": "stdout",
     "output_type": "stream",
     "text": [
      "game_location         A         H\n",
      "game_result                      \n",
      "L              0.295556  0.233333\n",
      "W              0.204444  0.266667\n"
     ]
    }
   ],
   "source": [
    "# convert table of frequencies to table of proportions\n",
    "\n",
    "location_result_proportions = location_result_freq / len(nba_2010)\n",
    "\n",
    "print(location_result_proportions)"
   ]
  },
  {
   "cell_type": "code",
   "execution_count": 21,
   "id": "57f65281",
   "metadata": {},
   "outputs": [
    {
     "name": "stdout",
     "output_type": "stream",
     "text": [
      "[[119. 119.]\n",
      " [106. 106.]]\n",
      "6.501704455367053\n"
     ]
    }
   ],
   "source": [
    "chi2, pval, dof, expected = chi2_contingency(location_result_freq)\n",
    "print(expected)\n",
    "print(chi2)"
   ]
  },
  {
   "cell_type": "code",
   "execution_count": 24,
   "id": "ef550a44",
   "metadata": {},
   "outputs": [
    {
     "name": "stdout",
     "output_type": "stream",
     "text": [
      "[[186.56   1.37]\n",
      " [  1.37   0.05]]\n"
     ]
    }
   ],
   "source": [
    "point_diff_forecast_cov = np.cov(nba_2010.point_diff, nba_2010.forecast)\n",
    "print(point_diff_forecast_cov)"
   ]
  },
  {
   "cell_type": "code",
   "execution_count": 25,
   "id": "ef85d03d",
   "metadata": {},
   "outputs": [
    {
     "name": "stdout",
     "output_type": "stream",
     "text": [
      "(0.44020887084680815, 9.410391573138826e-23)\n"
     ]
    }
   ],
   "source": [
    "point_diff_forecast_corr = pearsonr(nba_2010.point_diff, nba_2010.forecast)\n",
    "print(point_diff_forecast_corr)"
   ]
  },
  {
   "cell_type": "code",
   "execution_count": 32,
   "id": "74eb102c",
   "metadata": {},
   "outputs": [
    {
     "data": {
      "image/png": "[encoded data removed]",
      "text/plain": [
       "<Figure size 432x288 with 1 Axes>"
      ]
     },
     "metadata": {
      "needs_background": "light"
     },
     "output_type": "display_data"
    }
   ],
   "source": [
    "#Compare Forcast to point differential\n",
    "\n",
    "plt.clf() #to clear the previous plot\n",
    "plt.scatter('forecast', 'point_diff', data=nba_2010)\n",
    "plt.xlabel('Forecasted Win Prob.')\n",
    "plt.ylabel('Point Differential')\n",
    "plt.show()"
   ]
  },
  {
   "cell_type": "code",
   "execution_count": null,
   "id": "7c29e935",
   "metadata": {},
   "outputs": [],
   "source": []
  }
 ],
 "metadata": {
  "kernelspec": {
   "display_name": "Python 3 (ipykernel)",
   "language": "python",
   "name": "python3"
  },
  "language_info": {
   "codemirror_mode": {
    "name": "ipython",
    "version": 3
   },
   "file_extension": ".py",
   "mimetype": "text/x-python",
   "name": "python",
   "nbconvert_exporter": "python",
   "pygments_lexer": "ipython3",
   "version": "3.9.12"
  }
 },
 "nbformat": 4,
 "nbformat_minor": 5
}
